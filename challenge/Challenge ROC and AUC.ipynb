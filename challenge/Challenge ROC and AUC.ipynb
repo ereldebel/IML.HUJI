{
 "cells": [
  {
   "cell_type": "code",
   "execution_count": 3,
   "metadata": {
    "pycharm": {
     "name": "#%%\n"
    }
   },
   "outputs": [],
   "source": [
    "import sys\n",
    "\n",
    "from challenge import agoda_cancellation_estimator\n",
    "\n",
    "sys.path.append(\"../\")\n",
    "from utils import *\n",
    "from agoda_cancellation_estimator import *\n",
    "from agoda_cancellation_prediction import *\n",
    "from agoda_cancellation_preprocessor import AgodaCancellationPreprocessor\n",
    "from sklearn.metrics import roc_curve, auc, f1_score\n",
    "from IMLearn.utils import split_train_test\n",
    "\n",
    "np.random.seed(0)\n",
    "c = [custom[0], custom[-1]]\n",
    "\n",
    "# Load and preprocess data\n",
    "full_data = load_data(\"../datasets/agoda_cancellation_train.csv\")\n",
    "p = AgodaCancellationPreprocessor(full_data)\n",
    "design_matrix = p.preprocess(full_data)\n",
    "cancellation_labels = p.preprocess_labels(full_data.cancellation_datetime,\n",
    "                                          full_data.booking_datetime)\n",
    "test_set = p.preprocess(pd.read_csv(\"test_set_week_1.csv\"))\n",
    "test_set_labels = pd.read_csv(\"test_set_week_1_labels.csv\")[\"h_booking_id|label\"].astype(str).apply(lambda x: int(x[-1]))\n",
    "missing_cols = set(design_matrix.columns) - set(test_set.columns)\n",
    "for c in missing_cols:\n",
    "    test_set[c] = 0\n",
    "test_set = test_set[design_matrix.columns]"
   ]
  },
  {
   "cell_type": "code",
   "execution_count": 4,
   "metadata": {
    "pycharm": {
     "name": "#%%\n"
    }
   },
   "outputs": [
    {
     "name": "stdout",
     "output_type": "stream",
     "text": [
      "C: 1, epsilon: 0.18, f1 macro: 0.5202850877192983\n",
      "C: 1, epsilon: 0.181, f1 macro: 0.5202850877192983\n",
      "C: 1, epsilon: 0.182, f1 macro: 0.5202850877192983\n",
      "C: 1, epsilon: 0.183, f1 macro: 0.5202850877192983\n",
      "C: 1, epsilon: 0.184, f1 macro: 0.5202850877192983\n",
      "C: 1, epsilon: 0.185, f1 macro: 0.5202850877192983\n",
      "C: 1, epsilon: 0.186, f1 macro: 0.5202850877192983\n",
      "C: 1, epsilon: 0.187, f1 macro: 0.518964332424464\n",
      "C: 1, epsilon: 0.188, f1 macro: 0.518964332424464\n",
      "C: 1, epsilon: 0.189, f1 macro: 0.5176987339591766\n"
     ]
    },
    {
     "ename": "KeyboardInterrupt",
     "evalue": "",
     "output_type": "error",
     "traceback": [
      "\u001B[1;31m---------------------------------------------------------------------------\u001B[0m",
      "\u001B[1;31mKeyboardInterrupt\u001B[0m                         Traceback (most recent call last)",
      "\u001B[1;32m~\\AppData\\Local\\Temp\\ipykernel_23544\\2655258524.py\u001B[0m in \u001B[0;36m<module>\u001B[1;34m\u001B[0m\n\u001B[0;32m     13\u001B[0m \u001B[0mC\u001B[0m\u001B[1;33m=\u001B[0m\u001B[1;36m1\u001B[0m\u001B[1;33m\u001B[0m\u001B[1;33m\u001B[0m\u001B[0m\n\u001B[0;32m     14\u001B[0m \u001B[1;32mfor\u001B[0m \u001B[0mepsilon\u001B[0m \u001B[1;32min\u001B[0m \u001B[0mrange\u001B[0m\u001B[1;33m(\u001B[0m\u001B[1;36m180\u001B[0m\u001B[1;33m,\u001B[0m\u001B[1;36m210\u001B[0m\u001B[1;33m)\u001B[0m\u001B[1;33m:\u001B[0m\u001B[1;33m\u001B[0m\u001B[1;33m\u001B[0m\u001B[0m\n\u001B[1;32m---> 15\u001B[1;33m     \u001B[0mmodel\u001B[0m \u001B[1;33m=\u001B[0m \u001B[0mAgodaCancellationEstimator\u001B[0m\u001B[1;33m(\u001B[0m\u001B[0mC\u001B[0m\u001B[1;33m,\u001B[0m \u001B[0mepsilon\u001B[0m\u001B[1;33m/\u001B[0m\u001B[1;36m1000\u001B[0m\u001B[1;33m,\u001B[0m \u001B[1;36m0.33\u001B[0m\u001B[1;33m)\u001B[0m\u001B[1;33m.\u001B[0m\u001B[0mfit\u001B[0m\u001B[1;33m(\u001B[0m\u001B[0mtrain_X\u001B[0m\u001B[1;33m,\u001B[0m \u001B[0mtrain_y\u001B[0m\u001B[1;33m)\u001B[0m\u001B[1;33m\u001B[0m\u001B[1;33m\u001B[0m\u001B[0m\n\u001B[0m\u001B[0;32m     16\u001B[0m     \u001B[0my_prob\u001B[0m \u001B[1;33m=\u001B[0m \u001B[0mmodel\u001B[0m\u001B[1;33m.\u001B[0m\u001B[0mpredict\u001B[0m\u001B[1;33m(\u001B[0m\u001B[0mtest_X\u001B[0m\u001B[1;33m)\u001B[0m\u001B[1;33m\u001B[0m\u001B[1;33m\u001B[0m\u001B[0m\n\u001B[0;32m     17\u001B[0m     \u001B[0mf1_macro\u001B[0m \u001B[1;33m=\u001B[0m \u001B[0mf1_score\u001B[0m\u001B[1;33m(\u001B[0m\u001B[0mtest_y\u001B[0m\u001B[1;33m,\u001B[0m \u001B[0my_prob\u001B[0m\u001B[1;33m,\u001B[0m \u001B[0mlabels\u001B[0m\u001B[1;33m=\u001B[0m\u001B[1;33m[\u001B[0m\u001B[1;36m0\u001B[0m\u001B[1;33m,\u001B[0m\u001B[1;36m1\u001B[0m\u001B[1;33m]\u001B[0m\u001B[1;33m,\u001B[0m \u001B[0maverage\u001B[0m\u001B[1;33m=\u001B[0m\u001B[1;34m\"macro\"\u001B[0m\u001B[1;33m)\u001B[0m\u001B[1;33m\u001B[0m\u001B[1;33m\u001B[0m\u001B[0m\n",
      "\u001B[1;32m~\\OneDrive\\Documents\\CS.BSc\\SemD\\IML\\IML.HUJI repo\\IMLearn\\base\\base_estimator.py\u001B[0m in \u001B[0;36mfit\u001B[1;34m(self, X, y)\u001B[0m\n\u001B[0;32m     49\u001B[0m         \u001B[0mAfter\u001B[0m \u001B[0mfitting\u001B[0m \u001B[0msets\u001B[0m\u001B[0;31m \u001B[0m\u001B[0;31m`\u001B[0m\u001B[0;31m`\u001B[0m\u001B[0mself\u001B[0m\u001B[1;33m.\u001B[0m\u001B[0mfitted_\u001B[0m\u001B[0;31m`\u001B[0m\u001B[0;31m`\u001B[0m \u001B[0mattribute\u001B[0m \u001B[0mto\u001B[0m\u001B[0;31m \u001B[0m\u001B[0;31m`\u001B[0m\u001B[1;32mTrue\u001B[0m\u001B[0;31m`\u001B[0m\u001B[1;33m\u001B[0m\u001B[1;33m\u001B[0m\u001B[0m\n\u001B[0;32m     50\u001B[0m         \"\"\"\n\u001B[1;32m---> 51\u001B[1;33m         \u001B[0mself\u001B[0m\u001B[1;33m.\u001B[0m\u001B[0m_fit\u001B[0m\u001B[1;33m(\u001B[0m\u001B[0mX\u001B[0m\u001B[1;33m,\u001B[0m \u001B[0my\u001B[0m\u001B[1;33m)\u001B[0m\u001B[1;33m\u001B[0m\u001B[1;33m\u001B[0m\u001B[0m\n\u001B[0m\u001B[0;32m     52\u001B[0m         \u001B[0mself\u001B[0m\u001B[1;33m.\u001B[0m\u001B[0mfitted_\u001B[0m \u001B[1;33m=\u001B[0m \u001B[1;32mTrue\u001B[0m\u001B[1;33m\u001B[0m\u001B[1;33m\u001B[0m\u001B[0m\n\u001B[0;32m     53\u001B[0m         \u001B[1;32mreturn\u001B[0m \u001B[0mself\u001B[0m\u001B[1;33m\u001B[0m\u001B[1;33m\u001B[0m\u001B[0m\n",
      "\u001B[1;32m~\\OneDrive\\Documents\\CS.BSc\\SemD\\IML\\IML.HUJI repo\\challenge\\agoda_cancellation_estimator.py\u001B[0m in \u001B[0;36m_fit\u001B[1;34m(self, X, y)\u001B[0m\n\u001B[0;32m     53\u001B[0m \u001B[1;33m\u001B[0m\u001B[0m\n\u001B[0;32m     54\u001B[0m         \"\"\"\n\u001B[1;32m---> 55\u001B[1;33m         \u001B[0mself\u001B[0m\u001B[1;33m.\u001B[0m\u001B[0m_model\u001B[0m\u001B[1;33m.\u001B[0m\u001B[0mfit\u001B[0m\u001B[1;33m(\u001B[0m\u001B[0mX\u001B[0m\u001B[1;33m,\u001B[0m \u001B[0my\u001B[0m\u001B[1;33m)\u001B[0m\u001B[1;33m\u001B[0m\u001B[1;33m\u001B[0m\u001B[0m\n\u001B[0m\u001B[0;32m     56\u001B[0m \u001B[1;33m\u001B[0m\u001B[0m\n\u001B[0;32m     57\u001B[0m     \u001B[1;32mdef\u001B[0m \u001B[0m_predict\u001B[0m\u001B[1;33m(\u001B[0m\u001B[0mself\u001B[0m\u001B[1;33m,\u001B[0m \u001B[0mX\u001B[0m\u001B[1;33m:\u001B[0m \u001B[0mnp\u001B[0m\u001B[1;33m.\u001B[0m\u001B[0mndarray\u001B[0m\u001B[1;33m)\u001B[0m \u001B[1;33m->\u001B[0m \u001B[0mnp\u001B[0m\u001B[1;33m.\u001B[0m\u001B[0mndarray\u001B[0m\u001B[1;33m:\u001B[0m\u001B[1;33m\u001B[0m\u001B[1;33m\u001B[0m\u001B[0m\n",
      "\u001B[1;32mc:\\users\\0erel\\onedrive\\documents\\cs.bsc\\semd\\iml\\iml.huji repo\\venv\\lib\\site-packages\\sklearn\\pipeline.py\u001B[0m in \u001B[0;36mfit\u001B[1;34m(self, X, y, **fit_params)\u001B[0m\n\u001B[0;32m    392\u001B[0m             \u001B[1;32mif\u001B[0m \u001B[0mself\u001B[0m\u001B[1;33m.\u001B[0m\u001B[0m_final_estimator\u001B[0m \u001B[1;33m!=\u001B[0m \u001B[1;34m\"passthrough\"\u001B[0m\u001B[1;33m:\u001B[0m\u001B[1;33m\u001B[0m\u001B[1;33m\u001B[0m\u001B[0m\n\u001B[0;32m    393\u001B[0m                 \u001B[0mfit_params_last_step\u001B[0m \u001B[1;33m=\u001B[0m \u001B[0mfit_params_steps\u001B[0m\u001B[1;33m[\u001B[0m\u001B[0mself\u001B[0m\u001B[1;33m.\u001B[0m\u001B[0msteps\u001B[0m\u001B[1;33m[\u001B[0m\u001B[1;33m-\u001B[0m\u001B[1;36m1\u001B[0m\u001B[1;33m]\u001B[0m\u001B[1;33m[\u001B[0m\u001B[1;36m0\u001B[0m\u001B[1;33m]\u001B[0m\u001B[1;33m]\u001B[0m\u001B[1;33m\u001B[0m\u001B[1;33m\u001B[0m\u001B[0m\n\u001B[1;32m--> 394\u001B[1;33m                 \u001B[0mself\u001B[0m\u001B[1;33m.\u001B[0m\u001B[0m_final_estimator\u001B[0m\u001B[1;33m.\u001B[0m\u001B[0mfit\u001B[0m\u001B[1;33m(\u001B[0m\u001B[0mXt\u001B[0m\u001B[1;33m,\u001B[0m \u001B[0my\u001B[0m\u001B[1;33m,\u001B[0m \u001B[1;33m**\u001B[0m\u001B[0mfit_params_last_step\u001B[0m\u001B[1;33m)\u001B[0m\u001B[1;33m\u001B[0m\u001B[1;33m\u001B[0m\u001B[0m\n\u001B[0m\u001B[0;32m    395\u001B[0m \u001B[1;33m\u001B[0m\u001B[0m\n\u001B[0;32m    396\u001B[0m         \u001B[1;32mreturn\u001B[0m \u001B[0mself\u001B[0m\u001B[1;33m\u001B[0m\u001B[1;33m\u001B[0m\u001B[0m\n",
      "\u001B[1;32mc:\\users\\0erel\\onedrive\\documents\\cs.bsc\\semd\\iml\\iml.huji repo\\venv\\lib\\site-packages\\sklearn\\svm\\_base.py\u001B[0m in \u001B[0;36mfit\u001B[1;34m(self, X, y, sample_weight)\u001B[0m\n\u001B[0;32m    253\u001B[0m \u001B[1;33m\u001B[0m\u001B[0m\n\u001B[0;32m    254\u001B[0m         \u001B[0mseed\u001B[0m \u001B[1;33m=\u001B[0m \u001B[0mrnd\u001B[0m\u001B[1;33m.\u001B[0m\u001B[0mrandint\u001B[0m\u001B[1;33m(\u001B[0m\u001B[0mnp\u001B[0m\u001B[1;33m.\u001B[0m\u001B[0miinfo\u001B[0m\u001B[1;33m(\u001B[0m\u001B[1;34m\"i\"\u001B[0m\u001B[1;33m)\u001B[0m\u001B[1;33m.\u001B[0m\u001B[0mmax\u001B[0m\u001B[1;33m)\u001B[0m\u001B[1;33m\u001B[0m\u001B[1;33m\u001B[0m\u001B[0m\n\u001B[1;32m--> 255\u001B[1;33m         \u001B[0mfit\u001B[0m\u001B[1;33m(\u001B[0m\u001B[0mX\u001B[0m\u001B[1;33m,\u001B[0m \u001B[0my\u001B[0m\u001B[1;33m,\u001B[0m \u001B[0msample_weight\u001B[0m\u001B[1;33m,\u001B[0m \u001B[0msolver_type\u001B[0m\u001B[1;33m,\u001B[0m \u001B[0mkernel\u001B[0m\u001B[1;33m,\u001B[0m \u001B[0mrandom_seed\u001B[0m\u001B[1;33m=\u001B[0m\u001B[0mseed\u001B[0m\u001B[1;33m)\u001B[0m\u001B[1;33m\u001B[0m\u001B[1;33m\u001B[0m\u001B[0m\n\u001B[0m\u001B[0;32m    256\u001B[0m         \u001B[1;31m# see comment on the other call to np.iinfo in this file\u001B[0m\u001B[1;33m\u001B[0m\u001B[1;33m\u001B[0m\u001B[1;33m\u001B[0m\u001B[0m\n\u001B[0;32m    257\u001B[0m \u001B[1;33m\u001B[0m\u001B[0m\n",
      "\u001B[1;32mc:\\users\\0erel\\onedrive\\documents\\cs.bsc\\semd\\iml\\iml.huji repo\\venv\\lib\\site-packages\\sklearn\\svm\\_base.py\u001B[0m in \u001B[0;36m_dense_fit\u001B[1;34m(self, X, y, sample_weight, solver_type, kernel, random_seed)\u001B[0m\n\u001B[0;32m    331\u001B[0m             \u001B[0mepsilon\u001B[0m\u001B[1;33m=\u001B[0m\u001B[0mself\u001B[0m\u001B[1;33m.\u001B[0m\u001B[0mepsilon\u001B[0m\u001B[1;33m,\u001B[0m\u001B[1;33m\u001B[0m\u001B[1;33m\u001B[0m\u001B[0m\n\u001B[0;32m    332\u001B[0m             \u001B[0mmax_iter\u001B[0m\u001B[1;33m=\u001B[0m\u001B[0mself\u001B[0m\u001B[1;33m.\u001B[0m\u001B[0mmax_iter\u001B[0m\u001B[1;33m,\u001B[0m\u001B[1;33m\u001B[0m\u001B[1;33m\u001B[0m\u001B[0m\n\u001B[1;32m--> 333\u001B[1;33m             \u001B[0mrandom_seed\u001B[0m\u001B[1;33m=\u001B[0m\u001B[0mrandom_seed\u001B[0m\u001B[1;33m,\u001B[0m\u001B[1;33m\u001B[0m\u001B[1;33m\u001B[0m\u001B[0m\n\u001B[0m\u001B[0;32m    334\u001B[0m         )\n\u001B[0;32m    335\u001B[0m \u001B[1;33m\u001B[0m\u001B[0m\n",
      "\u001B[1;32msklearn\\svm\\_libsvm.pyx\u001B[0m in \u001B[0;36msklearn.svm._libsvm.fit\u001B[1;34m()\u001B[0m\n",
      "\u001B[1;31mKeyboardInterrupt\u001B[0m: "
     ]
    }
   ],
   "source": [
    "import agoda_cancellation_estimator\n",
    "import importlib\n",
    "importlib.reload(agoda_cancellation_estimator)\n",
    "from agoda_cancellation_estimator import AgodaCancellationEstimator\n",
    "\n",
    "train_X = design_matrix\n",
    "train_y = cancellation_labels\n",
    "test_X = test_set\n",
    "test_y = test_set_labels\n",
    "\n",
    "\n",
    "# Fit model over data\n",
    "C=1\n",
    "for epsilon in range(180,210):\n",
    "    model = AgodaCancellationEstimator(C, epsilon/1000, 0.33).fit(train_X, train_y)\n",
    "    y_prob = model.predict(test_X)\n",
    "    f1_macro = f1_score(test_y, y_prob, labels=[0,1], average=\"macro\")\n",
    "    print(f\"C: {C}, epsilon: {epsilon/1000}, f1 macro: {f1_macro}\")\n",
    "\n",
    "\n",
    "# fpr, tpr, thresholds = roc_curve(test_y, y_prob)\n",
    "\n",
    "# go.Figure(\n",
    "#     data=[go.Scatter(x=[0, 1], y=[0, 1], mode=\"lines\",\n",
    "#                      line=dict(color=\"black\", dash='dash'),\n",
    "#                      name=\"Random Class Assignment\"),\n",
    "#           go.Scatter(x=fpr, y=tpr, mode='markers+lines', text=thresholds,\n",
    "#                      name=\"\", showlegend=False, marker_size=5,\n",
    "#                      # marker_color=c[1][1],\n",
    "#                      hovertemplate=\"<b>Threshold:</b>%{text:.3f}<br>FPR: %{x:.3f}<br>TPR: %{y:.3f}\")],\n",
    "#     layout=go.Layout(\n",
    "#         title=rf\"$\\text{{ROC Curve Of Fitted Model - AUC}}={auc(fpr, tpr):.6f}$\",\n",
    "#         xaxis=dict(title=r\"$\\text{False Positive Rate (FPR)}$\"),\n",
    "#         yaxis=dict(title=r\"$\\text{True Positive Rate (TPR)}$\")))"
   ]
  },
  {
   "cell_type": "code",
   "execution_count": 12,
   "metadata": {
    "pycharm": {
     "name": "#%%\n"
    }
   },
   "outputs": [
    {
     "ename": "IndentationError",
     "evalue": "unexpected indent (1265416476.py, line 17)",
     "output_type": "error",
     "traceback": [
      "\u001B[1;36m  File \u001B[1;32m\"C:\\Users\\0erel\\AppData\\Local\\Temp\\ipykernel_26136\\1265416476.py\"\u001B[1;36m, line \u001B[1;32m17\u001B[0m\n\u001B[1;33m    .update(frames=frames[1:])\u001B[0m\n\u001B[1;37m    ^\u001B[0m\n\u001B[1;31mIndentationError\u001B[0m\u001B[1;31m:\u001B[0m unexpected indent\n"
     ]
    }
   ],
   "source": [
    "model = AgodaCancellationEstimator().fit(design_matrix, cancellation_labels)\n",
    "y_prob = model.predict(design_matrix)\n",
    "fig = px.histogram(x=y_prob, color=cancellation_labels, nbins=50,\n",
    "                   barmode=\"overlay\",\n",
    "                   color_discrete_sequence=[c[1][1], c[0][1]],\n",
    "                   labels=dict(color=r'$\\text{True Class Assignments}$',\n",
    "                               x=r'$\\text{Probability of Assigning Class }1$'),\n",
    "                   title=r\"$(3)\\text{ Histogram of Class Assignment Probabilities}$\",\n",
    "                   height=350)\n",
    "\n",
    "frames = [go.Frame(\n",
    "    data=go.Scatter(x=[t / 10, t / 10], y=[0, 600], mode=\"lines\",\n",
    "                    line=dict(color=\"black\"), showlegend=False), traces=[2])\n",
    "          for t in range(11)]\n",
    "\n",
    "fig.add_traces(frames[0][\"data\"][0])\n",
    "    .update(frames=frames[1:])\n",
    "    .update_layout(updatemenus=[\n",
    "    dict(type=\"buttons\", buttons=[AnimationButtons.play(frame_duration=1000),\n",
    "                                  AnimationButtons.pause()])])"
   ]
  },
  {
   "cell_type": "code",
   "execution_count": null,
   "metadata": {
    "pycharm": {
     "name": "#%%\n"
    }
   },
   "outputs": [],
   "source": [
    "from sklearn.metrics import confusion_matrix\n",
    "\n",
    "model = AgodaCancellationEstimator(0.3).fit(design_matrix, cancellation_labels)\n",
    "y_prob = model.predict(test_set)\n",
    "cm = confusion_matrix(test_set_labels, y_prob, labels=[0, 1])\n",
    "print(cm)"
   ]
  },
  {
   "cell_type": "code",
   "execution_count": null,
   "metadata": {
    "pycharm": {
     "name": "#%%\n"
    }
   },
   "outputs": [],
   "source": []
  }
 ],
 "metadata": {
  "kernelspec": {
   "display_name": "Python 3 (ipykernel)",
   "language": "python",
   "name": "python3"
  },
  "language_info": {
   "codemirror_mode": {
    "name": "ipython",
    "version": 3
   },
   "file_extension": ".py",
   "mimetype": "text/x-python",
   "name": "python",
   "nbconvert_exporter": "python",
   "pygments_lexer": "ipython3",
   "version": "3.7.11"
  }
 },
 "nbformat": 4,
 "nbformat_minor": 1
}