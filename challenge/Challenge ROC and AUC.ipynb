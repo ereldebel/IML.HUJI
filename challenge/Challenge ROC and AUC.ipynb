{
 "cells": [
  {
   "cell_type": "code",
   "execution_count": 5,
   "metadata": {
    "pycharm": {
     "name": "#%%\n"
    }
   },
   "outputs": [],
   "source": [
    "import sys\n",
    "\n",
    "from challenge import agoda_cancellation_estimator\n",
    "\n",
    "sys.path.append(\"../\")\n",
    "from utils import *\n",
    "from agoda_cancellation_estimator import *\n",
    "from agoda_cancellation_prediction import *\n",
    "from agoda_cancellation_preprocessor import AgodaCancellationPreprocessor\n",
    "from sklearn.metrics import roc_curve, auc, f1_score\n",
    "from IMLearn.utils import split_train_test\n",
    "\n",
    "np.random.seed(0)\n",
    "c = [custom[0], custom[-1]]\n",
    "\n",
    "# Load and preprocess data\n",
    "full_data = load_data(\"../datasets/agoda_cancellation_train.csv\")\n",
    "p = AgodaCancellationPreprocessor(full_data)\n",
    "design_matrix = p.preprocess(full_data)\n",
    "cancellation_labels = p.preprocess_labels(full_data.cancellation_datetime,\n",
    "                                          full_data.booking_datetime)\n",
    "test_set = p.preprocess(pd.read_csv(\"test_set_week_1.csv\"))\n",
    "test_set_labels = pd.read_csv(\"test_set_week_1_labels.csv\")[\"h_booking_id|label\"].astype(str).apply(lambda x: int(x[-1]))\n",
    "missing_cols = set(design_matrix.columns) - set(test_set.columns)\n",
    "for c in missing_cols:\n",
    "    test_set[c] = 0\n",
    "test_set = test_set[design_matrix.columns]"
   ]
  },
  {
   "cell_type": "code",
   "execution_count": 6,
   "metadata": {
    "pycharm": {
     "name": "#%%\n"
    }
   },
   "outputs": [
    {
     "name": "stdout",
     "output_type": "stream",
     "text": [
      "C: 0.1, epsilon: 1.8, f1 macro: 0.5202850877192983\n",
      "C: 0.1, epsilon: 1.81, f1 macro: 0.5202850877192983\n",
      "C: 0.1, epsilon: 1.82, f1 macro: 0.5202850877192983\n",
      "C: 0.1, epsilon: 1.83, f1 macro: 0.5202850877192983\n",
      "C: 0.1, epsilon: 1.84, f1 macro: 0.5202850877192983\n",
      "C: 0.1, epsilon: 1.85, f1 macro: 0.5202850877192983\n",
      "C: 0.1, epsilon: 1.86, f1 macro: 0.5202850877192983\n",
      "C: 0.1, epsilon: 1.87, f1 macro: 0.518964332424464\n",
      "C: 0.1, epsilon: 1.88, f1 macro: 0.518964332424464\n",
      "C: 0.1, epsilon: 1.89, f1 macro: 0.5176987339591766\n",
      "C: 0.1, epsilon: 1.9, f1 macro: 0.5457875457875457\n",
      "C: 0.1, epsilon: 1.91, f1 macro: 0.5457875457875457\n",
      "C: 0.1, epsilon: 1.92, f1 macro: 0.5457875457875457\n",
      "C: 0.1, epsilon: 1.93, f1 macro: 0.5438253502769632\n",
      "C: 0.1, epsilon: 1.94, f1 macro: 0.541948404751046\n",
      "C: 0.1, epsilon: 1.95, f1 macro: 0.541948404751046\n",
      "C: 0.1, epsilon: 1.96, f1 macro: 0.541948404751046\n",
      "C: 0.1, epsilon: 1.97, f1 macro: 0.5401499343071334\n",
      "C: 0.1, epsilon: 1.98, f1 macro: 0.5401499343071334\n",
      "C: 0.1, epsilon: 1.99, f1 macro: 0.5401499343071334\n",
      "C: 0.1, epsilon: 2.0, f1 macro: 0.5401499343071334\n",
      "C: 0.1, epsilon: 2.01, f1 macro: 0.5401499343071334\n",
      "C: 0.1, epsilon: 2.02, f1 macro: 0.5384238587765406\n",
      "C: 0.1, epsilon: 2.03, f1 macro: 0.5384238587765406\n",
      "C: 0.1, epsilon: 2.04, f1 macro: 0.536764705882353\n",
      "C: 0.1, epsilon: 2.05, f1 macro: 0.536764705882353\n",
      "C: 0.1, epsilon: 2.06, f1 macro: 0.536764705882353\n",
      "C: 0.1, epsilon: 2.07, f1 macro: 0.536764705882353\n",
      "C: 0.1, epsilon: 2.08, f1 macro: 0.5351675371058346\n",
      "C: 0.1, epsilon: 2.09, f1 macro: 0.533627884143348\n"
     ]
    }
   ],
   "source": [
    "import agoda_cancellation_estimator\n",
    "import importlib\n",
    "importlib.reload(agoda_cancellation_estimator)\n",
    "from agoda_cancellation_estimator import AgodaCancellationEstimator\n",
    "\n",
    "train_X = design_matrix\n",
    "train_y = cancellation_labels\n",
    "test_X = test_set\n",
    "test_y = test_set_labels\n",
    "\n",
    "\n",
    "# Fit model over data\n",
    "C=1\n",
    "for epsilon in range(180,210):\n",
    "    model = AgodaCancellationEstimator(C, epsilon/1000, 0.33).fit(train_X, train_y)\n",
    "    y_prob = model.predict(test_X)\n",
    "    f1_macro = f1_score(test_y, y_prob, labels=[0,1], average=\"macro\")\n",
    "    print(f\"C: {C}, epsilon: {epsilon/1000}, f1 macro: {f1_macro}\")\n",
    "\n",
    "\n",
    "# fpr, tpr, thresholds = roc_curve(test_y, y_prob)\n",
    "\n",
    "# go.Figure(\n",
    "#     data=[go.Scatter(x=[0, 1], y=[0, 1], mode=\"lines\",\n",
    "#                      line=dict(color=\"black\", dash='dash'),\n",
    "#                      name=\"Random Class Assignment\"),\n",
    "#           go.Scatter(x=fpr, y=tpr, mode='markers+lines', text=thresholds,\n",
    "#                      name=\"\", showlegend=False, marker_size=5,\n",
    "#                      # marker_color=c[1][1],\n",
    "#                      hovertemplate=\"<b>Threshold:</b>%{text:.3f}<br>FPR: %{x:.3f}<br>TPR: %{y:.3f}\")],\n",
    "#     layout=go.Layout(\n",
    "#         title=rf\"$\\text{{ROC Curve Of Fitted Model - AUC}}={auc(fpr, tpr):.6f}$\",\n",
    "#         xaxis=dict(title=r\"$\\text{False Positive Rate (FPR)}$\"),\n",
    "#         yaxis=dict(title=r\"$\\text{True Positive Rate (TPR)}$\")))"
   ]
  },
  {
   "cell_type": "code",
   "execution_count": 12,
   "metadata": {
    "pycharm": {
     "name": "#%%\n"
    }
   },
   "outputs": [
    {
     "ename": "IndentationError",
     "evalue": "unexpected indent (1265416476.py, line 17)",
     "output_type": "error",
     "traceback": [
      "\u001B[1;36m  File \u001B[1;32m\"C:\\Users\\0erel\\AppData\\Local\\Temp\\ipykernel_26136\\1265416476.py\"\u001B[1;36m, line \u001B[1;32m17\u001B[0m\n\u001B[1;33m    .update(frames=frames[1:])\u001B[0m\n\u001B[1;37m    ^\u001B[0m\n\u001B[1;31mIndentationError\u001B[0m\u001B[1;31m:\u001B[0m unexpected indent\n"
     ]
    }
   ],
   "source": [
    "model = AgodaCancellationEstimator().fit(design_matrix, cancellation_labels)\n",
    "y_prob = model.predict(design_matrix)\n",
    "fig = px.histogram(x=y_prob, color=cancellation_labels, nbins=50,\n",
    "                   barmode=\"overlay\",\n",
    "                   color_discrete_sequence=[c[1][1], c[0][1]],\n",
    "                   labels=dict(color=r'$\\text{True Class Assignments}$',\n",
    "                               x=r'$\\text{Probability of Assigning Class }1$'),\n",
    "                   title=r\"$(3)\\text{ Histogram of Class Assignment Probabilities}$\",\n",
    "                   height=350)\n",
    "\n",
    "frames = [go.Frame(\n",
    "    data=go.Scatter(x=[t / 10, t / 10], y=[0, 600], mode=\"lines\",\n",
    "                    line=dict(color=\"black\"), showlegend=False), traces=[2])\n",
    "          for t in range(11)]\n",
    "\n",
    "fig.add_traces(frames[0][\"data\"][0])\n",
    "    .update(frames=frames[1:])\n",
    "    .update_layout(updatemenus=[\n",
    "    dict(type=\"buttons\", buttons=[AnimationButtons.play(frame_duration=1000),\n",
    "                                  AnimationButtons.pause()])])"
   ]
  },
  {
   "cell_type": "code",
   "execution_count": null,
   "metadata": {
    "pycharm": {
     "name": "#%%\n"
    }
   },
   "outputs": [],
   "source": [
    "from sklearn.metrics import confusion_matrix\n",
    "\n",
    "model = AgodaCancellationEstimator(0.3).fit(design_matrix, cancellation_labels)\n",
    "y_prob = model.predict(test_set)\n",
    "cm = confusion_matrix(test_set_labels, y_prob, labels=[0, 1])\n",
    "print(cm)"
   ]
  },
  {
   "cell_type": "code",
   "execution_count": null,
   "outputs": [],
   "source": [],
   "metadata": {
    "collapsed": false,
    "pycharm": {
     "name": "#%%\n"
    }
   }
  }
 ],
 "metadata": {
  "kernelspec": {
   "display_name": "Python 3 (ipykernel)",
   "language": "python",
   "name": "python3"
  },
  "language_info": {
   "codemirror_mode": {
    "name": "ipython",
    "version": 3
   },
   "file_extension": ".py",
   "mimetype": "text/x-python",
   "name": "python",
   "nbconvert_exporter": "python",
   "pygments_lexer": "ipython3",
   "version": "3.7.11"
  }
 },
 "nbformat": 4,
 "nbformat_minor": 1
}